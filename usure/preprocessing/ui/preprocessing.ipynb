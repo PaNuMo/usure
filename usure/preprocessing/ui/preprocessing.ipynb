{
 "cells": [
  {
   "cell_type": "code",
   "execution_count": 1,
   "metadata": {},
   "outputs": [],
   "source": [
    "import sys\n",
    "import os\n",
    "sys.path.append(os.path.abspath(\"../../../\"))\n",
    "import ipywidgets as widgets\n",
    "from ipywidgets import interact, interactive, fixed, interact_manual, HBox\n",
    "from IPython.display import display"
   ]
  },
  {
   "cell_type": "code",
   "execution_count": 2,
   "metadata": {},
   "outputs": [],
   "source": [
    "from usure.preprocessing.application import ETL\n",
    "from usure.preprocessing.application.factories import UsureCleaningTaskFactory, CorpusDAOFactory"
   ]
  },
  {
   "cell_type": "code",
   "execution_count": 3,
   "metadata": {},
   "outputs": [],
   "source": [
    "cleaningtaskfactory = UsureCleaningTaskFactory()\n",
    "corpusdaofactory = CorpusDAOFactory()\n",
    "cleaningtask = cleaningtaskfactory.create_basic_process()\n",
    "corpusdao = corpusdaofactory.create_test()\n",
    "etl = ETL(cleaningtask, corpusdao)"
   ]
  },
  {
   "cell_type": "code",
   "execution_count": 4,
   "metadata": {},
   "outputs": [
    {
     "data": {
      "application/vnd.jupyter.widget-view+json": {
       "model_id": "1764d48819e544c187f1559fc5fa6c77",
       "version_major": 2,
       "version_minor": 0
      },
      "text/plain": [
       "HBox(children=(Button(button_style='primary', description='Facebook', style=ButtonStyle()), Button(button_styl…"
      ]
     },
     "metadata": {},
     "output_type": "display_data"
    },
    {
     "name": "stderr",
     "output_type": "stream",
     "text": [
      "INFO:root:Start EXTRACTING Starting time:00:50:56\n",
      "INFO:root:End EXTRACTING: 00:00:00\n",
      "INFO:root:Start TRANSFORMING Starting time:00:50:56\n",
      "INFO:root:Chunk: 0 Starting time:00:50:56\n",
      "INFO:root:End TRANSFORMING: 00:00:00\n",
      "INFO:root:Start LOADING Starting time:00:50:56\n",
      "INFO:root:End LOADING: 00:00:00\n"
     ]
    }
   ],
   "source": [
    "w = widgets.Button(description=\"Facebook\", button_style='primary')\n",
    "w1 = widgets.Button(description=\"Twitter\", button_style='primary')\n",
    "w2 = widgets.Button(description=\"Ambos\", button_style='danger')\n",
    "w3 = widgets.Button(description=\"Test\", button_style='info')\n",
    "w1.on_click(lambda event: etl.do())\n",
    "HBox([w, w1, w2, w3])"
   ]
  },
  {
   "cell_type": "code",
   "execution_count": null,
   "metadata": {},
   "outputs": [],
   "source": []
  }
 ],
 "metadata": {
  "kernelspec": {
   "display_name": "Python 3",
   "language": "python",
   "name": "python3"
  },
  "language_info": {
   "codemirror_mode": {
    "name": "ipython",
    "version": 3
   },
   "file_extension": ".py",
   "mimetype": "text/x-python",
   "name": "python",
   "nbconvert_exporter": "python",
   "pygments_lexer": "ipython3",
   "version": "3.7.3"
  },
  "widgets": {
   "application/vnd.jupyter.widget-state+json": {
    "state": {},
    "version_major": 2,
    "version_minor": 0
   }
  }
 },
 "nbformat": 4,
 "nbformat_minor": 2
}
