{
 "cells": [
  {
   "cell_type": "code",
   "execution_count": 17,
   "metadata": {},
   "outputs": [],
   "source": [
    "import sys\n",
    "import os\n",
    "from pprint import pprint\n",
    "sys.path.append(os.path.abspath(\"../../../\"))\n",
    "import warnings\n",
    "warnings.filterwarnings('ignore')\n",
    "import ipywidgets as widgets\n",
    "from ipywidgets import interact, interactive, fixed, interact_manual, HBox\n",
    "from IPython.display import display\n",
    "import numpy as np\n",
    "import pandas as pd\n",
    "import matplotlib.pyplot as plt"
   ]
  },
  {
   "cell_type": "code",
   "execution_count": 18,
   "metadata": {},
   "outputs": [],
   "source": [
    "from usure.wordvectors.infrastructure import Word2VecDAO\n",
    "from usure.wordvectors.ui import StatisticsReporter"
   ]
  },
  {
   "cell_type": "code",
   "execution_count": 63,
   "metadata": {},
   "outputs": [
    {
     "name": "stdout",
     "output_type": "stream",
     "text": [
      "[('roba', 0.6489682793617249),\n",
      " ('sinverguenza', 0.6421538591384888),\n",
      " ('corrupto', 0.6355468034744263),\n",
      " ('descarado', 0.5818846821784973),\n",
      " ('ladronn', 0.5649933815002441),\n",
      " ('pillo', 0.5601155757904053),\n",
      " ('carebarro', 0.5390651226043701),\n",
      " ('choricero', 0.5373857021331787),\n",
      " ('mentiroso', 0.5372729897499084),\n",
      " ('muertodehambre', 0.5357394814491272)]\n"
     ]
    }
   ],
   "source": [
    "w2v_dao = Word2VecDAO()\n",
    "models = w2v_dao.get_models()\n",
    "for w2v in models:\n",
    "    pprint(w2v.wv.most_similar(\"ladron\"))\n",
    "    break"
   ]
  },
  {
   "cell_type": "code",
   "execution_count": null,
   "metadata": {},
   "outputs": [],
   "source": []
  }
 ],
 "metadata": {
  "kernelspec": {
   "display_name": "Python 3",
   "language": "python",
   "name": "python3"
  },
  "language_info": {
   "codemirror_mode": {
    "name": "ipython",
    "version": 3
   },
   "file_extension": ".py",
   "mimetype": "text/x-python",
   "name": "python",
   "nbconvert_exporter": "python",
   "pygments_lexer": "ipython3",
   "version": "3.7.3"
  }
 },
 "nbformat": 4,
 "nbformat_minor": 2
}
